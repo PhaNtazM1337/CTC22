{
 "cells": [
  {
   "cell_type": "code",
   "execution_count": 1,
   "id": "3eb50122-052c-4f78-8cbf-8d23d8b54e20",
   "metadata": {},
   "outputs": [],
   "source": [
    "#SETUP\n",
    "\n",
    "import os\n",
    "from IPython.display import display\n",
    "import sys\n",
    "\n",
    "def d (string):\n",
    "    if string not in os.environ:\n",
    "        return \"\"\n",
    "    return os.environ[string]\n",
    "\n",
    "os.environ[\"ALGO_HOME\"]=\"/prod/algo_sdk\"\n",
    "os.environ[\"TZ\"] = \"UTC\"\n",
    "os.environ[\"LD_LIBRARY_PATH\"] = f\"{d('ALGO_HOME')}/bin:{d('LD_LIBRARY_PATH')}\"\n",
    "os.environ[\"PATH\"] = f\"{d('ALGO_HOME')}/bin:{d('ALGO_HOME')}/scripts:{d('HOME')}/bin:{d('PATH')}\"\n",
    "os.environ[\"PYTHONPATH\"] = f\"{d('ALGO_HOME')}/scripts:{d('PYTHONPATH')}\"\n",
    "\n",
    "sys.path += [f\"{d('ALGO_HOME')}/scripts\"]\n",
    "\n",
    "import sim_ana"
   ]
  },
  {
   "cell_type": "code",
   "execution_count": null,
   "id": "ab9cbca9-e902-462b-a64e-957a15dc308c",
   "metadata": {},
   "outputs": [],
   "source": []
  },
  {
   "cell_type": "code",
   "execution_count": 5,
   "id": "6d9935a8-ec82-448f-9ab6-93790b6b294a",
   "metadata": {},
   "outputs": [
    {
     "name": "stdout",
     "output_type": "stream",
     "text": [
      "\u001b[H\u001b[2JBuilding configurations...\n",
      "Running action 'gmake'...\n",
      "Generating Makefile...\n",
      "Generating strat.make...\n",
      "Done.\n",
      "Cleaning strat\n",
      "==== Building strat (release) ====\n",
      "Creating ../build/obj/Release\n",
      "CCSimpleMakerStrategy.cpp\n",
      "CCMain.cpp\n",
      "Linking strat\n",
      "Running post-build commands\n",
      "rsync -avz ../build/strat ../bin\n",
      "sending incremental file list\n",
      "strat\n",
      "\n",
      "sent 41,650 bytes  received 35 bytes  83,370.00 bytes/sec\n",
      "total size is 133,432  speedup is 3.20\n",
      "len(ldf) 62\n",
      "dates: 61\n"
     ]
    },
    {
     "data": {
      "image/png": "[encoded data removed]",
      "text/plain": [
       "<Figure size 432x288 with 1 Axes>"
      ]
     },
     "metadata": {
      "needs_background": "light"
     },
     "output_type": "display_data"
    }
   ],
   "source": [
    "# COMPILE AND RUN THE CODE\n",
    "\n",
    "!{\"cd ~/build_scripts; sh rebuild.sh\"}\n",
    "# DECLARE YOUR DATE RANGE.\n",
    "startdate=20200501\n",
    "enddate=20200510\n",
    "# THIS IS TO PLOT THE PNL CHART.\n",
    "sim_ana.sim_ana_plot(\"logs\", startdate, enddate, None, None, False, False, [], [], True)\n",
    "#The arguments to the above, in order, are the log path, start date, end date, start time, end time, business-days-only, show-details, symbols, excludes, and whether to plot.\n",
    "# THIS IS TO DISPLAY THE PNL SUMMARY STATISTICS.\n",
    "os.system(\"sim_ana.py -sd \"+str(startdate)+\" -ed \"+str(enddate)+\" -p logs\")\n",
    "\n",
    "\n",
    "#The arguments to the above, in order, are the log path, start date, end date, start time, end time, business-days-only, show-details, symbols, excludes, and whether to plot."
   ]
  },
  {
   "cell_type": "code",
   "execution_count": null,
   "id": "d9829add-b6bd-458c-924c-504e3b899e4f",
   "metadata": {},
   "outputs": [],
   "source": []
  },
  {
   "cell_type": "code",
   "execution_count": null,
   "id": "23a61042-9933-42df-b16b-3ced1d721c1a",
   "metadata": {},
   "outputs": [],
   "source": []
  }
 ],
 "metadata": {
  "kernelspec": {
   "display_name": "Python 3.8.10 64-bit",
   "language": "python",
   "name": "python3"
  },
  "language_info": {
   "codemirror_mode": {
    "name": "ipython",
    "version": 3
   },
   "file_extension": ".py",
   "mimetype": "text/x-python",
   "name": "python",
   "nbconvert_exporter": "python",
   "pygments_lexer": "ipython3",
   "version": "3.8.10"
  },
  "vscode": {
   "interpreter": {
    "hash": "916dbcbb3f70747c44a77c7bcd40155683ae19c65e1c03b4aa3499c5328201f1"
   }
  }
 },
 "nbformat": 4,
 "nbformat_minor": 5
}
